{
 "cells": [
  {
   "cell_type": "code",
   "execution_count": 42,
   "metadata": {},
   "outputs": [],
   "source": [
    "import requests\n",
    "from bs4 import BeautifulSoup\n",
    "import pdfkit"
   ]
  },
  {
   "cell_type": "code",
   "execution_count": 61,
   "metadata": {},
   "outputs": [],
   "source": [
    "url1 = \"http://www.yangzhiping.com/psy/\"\n",
    "def get_urls(url):\n",
    "    urls = []\n",
    "    res = requests.get(url)\n",
    "    soup = BeautifulSoup(res.text, \"lxml\")\n",
    "\n",
    "    for articles in soup.select(\".archive__item-title\"):\n",
    "        url = articles.select(\"a\")[0]['href']\n",
    "        urls.append(url)\n",
    "    return urls\n",
    "urls = get_urls(url1)"
   ]
  },
  {
   "cell_type": "code",
   "execution_count": 62,
   "metadata": {},
   "outputs": [],
   "source": [
    "def parse_url_to_html(urls):\n",
    "    htmls = \"\"\n",
    "    for url in urls:\n",
    "        res = requests.get(url)\n",
    "        soup = BeautifulSoup(res.text,\"lxml\")\n",
    "        body = soup.select(\".page__inner-wrap\")[0]\n",
    "        html = str(body)\n",
    "        htmls = htmls + html\n",
    "    with open (\"a.html\",\"w\") as f:\n",
    "        f.write(htmls)"
   ]
  },
  {
   "cell_type": "code",
   "execution_count": 63,
   "metadata": {
    "collapsed": true
   },
   "outputs": [],
   "source": [
    "#urls = [\"http://www.yangzhiping.com/psy/anrenmind-hr.html\",\"http://www.yangzhiping.com/psy/37-birthday.html\",\"http://www.yangzhiping.com/psy/flynn.html\"]\n",
    "parse_url_to_html(urls)"
   ]
  },
  {
   "cell_type": "code",
   "execution_count": null,
   "metadata": {
    "collapsed": true
   },
   "outputs": [],
   "source": []
  }
 ],
 "metadata": {
  "kernelspec": {
   "display_name": "Python 3",
   "language": "python",
   "name": "python3"
  },
  "language_info": {
   "codemirror_mode": {
    "name": "ipython",
    "version": 3
   },
   "file_extension": ".py",
   "mimetype": "text/x-python",
   "name": "python",
   "nbconvert_exporter": "python",
   "pygments_lexer": "ipython3",
   "version": "3.6.2"
  },
  "toc": {
   "nav_menu": {},
   "number_sections": true,
   "sideBar": true,
   "skip_h1_title": false,
   "toc_cell": false,
   "toc_position": {},
   "toc_section_display": "block",
   "toc_window_display": false
  }
 },
 "nbformat": 4,
 "nbformat_minor": 2
}
